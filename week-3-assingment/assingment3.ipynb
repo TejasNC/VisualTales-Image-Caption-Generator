{
 "cells": [
  {
   "cell_type": "code",
   "execution_count": 12,
   "metadata": {},
   "outputs": [],
   "source": [
    "import torch\n",
    "from torchvision import datasets\n",
    "from torchvision.transforms import ToTensor\n",
    "from torch.utils.data import DataLoader"
   ]
  },
  {
   "cell_type": "code",
   "execution_count": 13,
   "metadata": {},
   "outputs": [],
   "source": [
    "import numpy as np\n",
    "from torch import nn as nn\n",
    "from torch import optim as optim\n",
    "from torch.utils.data import random_split"
   ]
  },
  {
   "cell_type": "markdown",
   "metadata": {},
   "source": [
    "## Loading Dataset"
   ]
  },
  {
   "cell_type": "markdown",
   "metadata": {},
   "source": [
    "Training Data"
   ]
  },
  {
   "cell_type": "code",
   "execution_count": 14,
   "metadata": {},
   "outputs": [],
   "source": [
    "data_train = datasets.MNIST(root='mnist_data',train=True,transform=ToTensor(),download=True)"
   ]
  },
  {
   "cell_type": "markdown",
   "metadata": {},
   "source": [
    "Testing Data"
   ]
  },
  {
   "cell_type": "code",
   "execution_count": 15,
   "metadata": {},
   "outputs": [],
   "source": [
    "data_test = datasets.MNIST(root='mnist_data',train=False,transform=ToTensor(),download=True)"
   ]
  },
  {
   "cell_type": "code",
   "execution_count": 16,
   "metadata": {},
   "outputs": [
    {
     "data": {
      "text/plain": [
       "Dataset MNIST\n",
       "    Number of datapoints: 60000\n",
       "    Root location: mnist_data\n",
       "    Split: Train\n",
       "    StandardTransform\n",
       "Transform: ToTensor()"
      ]
     },
     "execution_count": 16,
     "metadata": {},
     "output_type": "execute_result"
    }
   ],
   "source": [
    "data_train"
   ]
  },
  {
   "cell_type": "code",
   "execution_count": 17,
   "metadata": {},
   "outputs": [
    {
     "data": {
      "text/plain": [
       "Dataset MNIST\n",
       "    Number of datapoints: 10000\n",
       "    Root location: mnist_data\n",
       "    Split: Test\n",
       "    StandardTransform\n",
       "Transform: ToTensor()"
      ]
     },
     "execution_count": 17,
     "metadata": {},
     "output_type": "execute_result"
    }
   ],
   "source": [
    "data_test"
   ]
  },
  {
   "cell_type": "code",
   "execution_count": 18,
   "metadata": {},
   "outputs": [
    {
     "data": {
      "text/plain": [
       "torch.Size([60000, 28, 28])"
      ]
     },
     "execution_count": 18,
     "metadata": {},
     "output_type": "execute_result"
    }
   ],
   "source": [
    "data_train.data.shape"
   ]
  },
  {
   "cell_type": "code",
   "execution_count": 19,
   "metadata": {},
   "outputs": [
    {
     "data": {
      "text/plain": [
       "torch.Size([10000, 28, 28])"
      ]
     },
     "execution_count": 19,
     "metadata": {},
     "output_type": "execute_result"
    }
   ],
   "source": [
    "data_test.data.size()"
   ]
  },
  {
   "cell_type": "code",
   "execution_count": 20,
   "metadata": {},
   "outputs": [],
   "source": [
    "import random\n",
    "random.seed(1)"
   ]
  },
  {
   "cell_type": "code",
   "execution_count": 21,
   "metadata": {},
   "outputs": [],
   "source": [
    "# Define data loaders\n",
    "test_data = DataLoader(data_test, batch_size=100, shuffle=False)\n",
    "val_split = 0.2  \n",
    "train_set, val_set = random_split(data_train, [1 - val_split, val_split])\n",
    "train_data = DataLoader(train_set, batch_size=100, shuffle=True)\n",
    "val_data = DataLoader(val_set, batch_size=100, shuffle=False)"
   ]
  },
  {
   "cell_type": "markdown",
   "metadata": {},
   "source": [
    "## Defining The Model Class"
   ]
  },
  {
   "cell_type": "markdown",
   "metadata": {},
   "source": [
    "Architecture is simple with a single hidden layer and ReLU activation function."
   ]
  },
  {
   "cell_type": "code",
   "execution_count": 22,
   "metadata": {},
   "outputs": [],
   "source": [
    "class NN(nn.Module):\n",
    "    def __init__(self):\n",
    "        super(NN,self).__init__()\n",
    "        self.layers = nn.Sequential(\n",
    "            nn.Linear(784, 100), \n",
    "            nn.ReLU(),           \n",
    "            nn.Linear(100, 64),  # Hidden layer\n",
    "            nn.ReLU(),           \n",
    "            nn.Linear(64, 10)   ,\n",
    "            nn.Softmax(10,10) \n",
    "        )\n",
    "\n",
    "    def forward(self, X):\n",
    "        X = X.view(X.size(0),-1) #flattening operation\n",
    "        return self.layers(X)"
   ]
  },
  {
   "cell_type": "markdown",
   "metadata": {},
   "source": [
    "I have used Cross Entropy as Loss Function and Adam optimizer."
   ]
  },
  {
   "cell_type": "code",
   "execution_count": 23,
   "metadata": {},
   "outputs": [],
   "source": [
    "model = NN()\n",
    "criterion = nn.CrossEntropyLoss()\n",
    "optimizer = torch.optim.Adam(model.parameters(), lr=0.001)\n",
    "# optimizer = torch.optim.Adam(model.parameters(), lr=0.01)\n",
    "# optimizer = torch.optim.Adam(model.parameters(), lr=0.005)"
   ]
  },
  {
   "cell_type": "markdown",
   "metadata": {},
   "source": [
    "## Training and Validation"
   ]
  },
  {
   "cell_type": "code",
   "execution_count": 24,
   "metadata": {},
   "outputs": [
    {
     "name": "stderr",
     "output_type": "stream",
     "text": [
      "c:\\Users\\tejas\\anaconda3\\Lib\\site-packages\\torch\\nn\\modules\\module.py:1532: UserWarning: Implicit dimension choice for softmax has been deprecated. Change the call to include dim=X as an argument.\n",
      "  return self._call_impl(*args, **kwargs)\n"
     ]
    },
    {
     "name": "stdout",
     "output_type": "stream",
     "text": [
      "Epoch [1/12] | Train Loss: 1.5408 | Val Loss: 0.0155 | Val Acc: 91.9333%\n",
      "Epoch [2/12] | Train Loss: 1.5310 | Val Loss: 0.0154 | Val Acc: 93.0583%\n",
      "Epoch [3/12] | Train Loss: 1.4942 | Val Loss: 0.0152 | Val Acc: 93.9833%\n",
      "Epoch [4/12] | Train Loss: 1.5277 | Val Loss: 0.0152 | Val Acc: 94.5917%\n",
      "Epoch [5/12] | Train Loss: 1.5095 | Val Loss: 0.0151 | Val Acc: 95.1333%\n",
      "Epoch [6/12] | Train Loss: 1.5070 | Val Loss: 0.0151 | Val Acc: 95.4167%\n",
      "Epoch [7/12] | Train Loss: 1.5085 | Val Loss: 0.0151 | Val Acc: 95.8083%\n",
      "Epoch [8/12] | Train Loss: 1.4983 | Val Loss: 0.0150 | Val Acc: 96.1250%\n",
      "Epoch [9/12] | Train Loss: 1.5099 | Val Loss: 0.0150 | Val Acc: 96.3833%\n",
      "Epoch [10/12] | Train Loss: 1.4791 | Val Loss: 0.0150 | Val Acc: 96.6417%\n",
      "Epoch [11/12] | Train Loss: 1.4717 | Val Loss: 0.0150 | Val Acc: 96.4833%\n",
      "Epoch [12/12] | Train Loss: 1.5035 | Val Loss: 0.0150 | Val Acc: 96.6417%\n"
     ]
    }
   ],
   "source": [
    "\n",
    "epochs = 12\n",
    "for epoch in range(epochs):\n",
    "\tfor data, target in train_data:\n",
    "\t\toptimizer.zero_grad()\n",
    "\t\toutputs = model(data)\n",
    "\t\tloss = criterion(outputs, target)\n",
    "\t\tloss.backward()\n",
    "\t\toptimizer.step()\n",
    "\t\n",
    "\n",
    "\twith torch.inference_mode():\n",
    "\t\tcorrect = 0\n",
    "\t\ttotal = 0\n",
    "\t\ttotal_loss = 0\n",
    "\t\tfor data,target in val_data:\n",
    "\t\t\toutputs = model(data)\n",
    "\t\t\tbatch_loss = criterion(outputs,target)\n",
    "\t\t\ttotal_loss += batch_loss.item()\n",
    "\t\t\t_,predicted = torch.max(outputs.data,1)\n",
    "\t\t\ttotal += target.size(0)\n",
    "\t\t\tcorrect += (predicted == target).sum().item()\n",
    "\t\n",
    "\tmodel.train()\n",
    "\t\n",
    "\tprint(f'Epoch [{epoch+1}/{epochs}] | Train Loss: {loss.item():.4f} | Val Loss: {total_loss/total:.4f} | Val Acc: {100*correct/total:.4f}%')\n",
    "\t"
   ]
  },
  {
   "cell_type": "markdown",
   "metadata": {},
   "source": [
    "## Testing Model"
   ]
  },
  {
   "cell_type": "code",
   "execution_count": 25,
   "metadata": {},
   "outputs": [
    {
     "name": "stderr",
     "output_type": "stream",
     "text": [
      "c:\\Users\\tejas\\anaconda3\\Lib\\site-packages\\torch\\nn\\modules\\module.py:1532: UserWarning: Implicit dimension choice for softmax has been deprecated. Change the call to include dim=X as an argument.\n",
      "  return self._call_impl(*args, **kwargs)\n"
     ]
    },
    {
     "name": "stdout",
     "output_type": "stream",
     "text": [
      "Accuracy of the network on the test images: 96.72%\n"
     ]
    }
   ],
   "source": [
    "# Test the model\n",
    "with torch.inference_mode():\n",
    "  correct, total = 0, 0\n",
    "  for data, target in test_data:\n",
    "    outputs = model(data)\n",
    "    _, predicted = torch.max(outputs.data, 1)\n",
    "    total += target.size(0)\n",
    "    correct += (predicted == target).sum().item()\n",
    "  print(f'Accuracy of the network on the test images: {100 * correct / total:.2f}%')"
   ]
  },
  {
   "cell_type": "markdown",
   "metadata": {},
   "source": [
    "## Visualization"
   ]
  },
  {
   "cell_type": "code",
   "execution_count": 26,
   "metadata": {},
   "outputs": [],
   "source": [
    "import random\n",
    "import matplotlib.pyplot as plt\n",
    "random.seed(2)"
   ]
  },
  {
   "cell_type": "code",
   "execution_count": 27,
   "metadata": {},
   "outputs": [
    {
     "name": "stderr",
     "output_type": "stream",
     "text": [
      "c:\\Users\\tejas\\anaconda3\\Lib\\site-packages\\torch\\nn\\modules\\module.py:1532: UserWarning: Implicit dimension choice for softmax has been deprecated. Change the call to include dim=X as an argument.\n",
      "  return self._call_impl(*args, **kwargs)\n"
     ]
    },
    {
     "data": {
      "image/png": "[encoded data removed]",
      "text/plain": [
       "<Figure size 640x480 with 1 Axes>"
      ]
     },
     "metadata": {},
     "output_type": "display_data"
    },
    {
     "data": {
      "image/png": "[encoded data removed]",
      "text/plain": [
       "<Figure size 640x480 with 1 Axes>"
      ]
     },
     "metadata": {},
     "output_type": "display_data"
    },
    {
     "data": {
      "image/png": "[encoded data removed]",
      "text/plain": [
       "<Figure size 640x480 with 1 Axes>"
      ]
     },
     "metadata": {},
     "output_type": "display_data"
    },
    {
     "data": {
      "image/png": "[encoded data removed]",
      "text/plain": [
       "<Figure size 640x480 with 1 Axes>"
      ]
     },
     "metadata": {},
     "output_type": "display_data"
    },
    {
     "data": {
      "image/png": "[encoded data removed]",
      "text/plain": [
       "<Figure size 640x480 with 1 Axes>"
      ]
     },
     "metadata": {},
     "output_type": "display_data"
    },
    {
     "data": {
      "image/png": "[encoded data removed]",
      "text/plain": [
       "<Figure size 640x480 with 1 Axes>"
      ]
     },
     "metadata": {},
     "output_type": "display_data"
    },
    {
     "data": {
      "image/png": "[encoded data removed]",
      "text/plain": [
       "<Figure size 640x480 with 1 Axes>"
      ]
     },
     "metadata": {},
     "output_type": "display_data"
    },
    {
     "data": {
      "image/png": "[encoded data removed]",
      "text/plain": [
       "<Figure size 640x480 with 1 Axes>"
      ]
     },
     "metadata": {},
     "output_type": "display_data"
    },
    {
     "data": {
      "image/png": "[encoded data removed]",
      "text/plain": [
       "<Figure size 640x480 with 1 Axes>"
      ]
     },
     "metadata": {},
     "output_type": "display_data"
    },
    {
     "data": {
      "image/png": "[encoded data removed]",
      "text/plain": [
       "<Figure size 640x480 with 1 Axes>"
      ]
     },
     "metadata": {},
     "output_type": "display_data"
    }
   ],
   "source": [
    "import matplotlib.pyplot as plt\n",
    "import torch\n",
    "\n",
    "def imshow(img):\n",
    "\tplt.imshow(img, cmap='gray', extent=(0, 28, 0, 28))  # Set extent for 28x28 image\n",
    "\tplt.axis('off')\n",
    "\tplt.title(f\"Actual: {label}, Predicted: {predicted.item()}\", fontsize=10)  # Set title with labels\n",
    "\tplt.show()\n",
    "\n",
    "for i in range(0,10):\n",
    "\t# Get a random batch of data from the dataloader\n",
    "\tdataiter = iter(train_data)\n",
    "\timages, labels = next(dataiter)\n",
    "\n",
    "\t# Select a random index within the batch\n",
    "\trandom_index = torch.randint(0, 100, size=(1,))  # Generate random index between 0 and 99 (inclusive)\n",
    "\n",
    "\t# Get the image and label for the chosen index\n",
    "\timage = images[random_index].squeeze()  # Extract image and remove batch dimension\n",
    "\tlabel = labels[random_index].item()  # Convert label tensor to scalar\n",
    "\n",
    "\t# Predict the class for the image\n",
    "\twith torch.no_grad():\n",
    "\t\toutput = model(image.unsqueeze(0))  # Add batch dimension for the model\n",
    "\t\t_, predicted = torch.max(output.data, 1)\n",
    "\n",
    "\timshow(image)\n",
    "\t# Define a function to visualize the image\n",
    "\n",
    "\n",
    "\t# Visualize the image\n",
    "\t\n"
   ]
  }
 ],
 "metadata": {
  "kernelspec": {
   "display_name": "Python 3",
   "language": "python",
   "name": "python3"
  },
  "language_info": {
   "codemirror_mode": {
    "name": "ipython",
    "version": 3
   },
   "file_extension": ".py",
   "mimetype": "text/x-python",
   "name": "python",
   "nbconvert_exporter": "python",
   "pygments_lexer": "ipython3",
   "version": "3.11.8"
  }
 },
 "nbformat": 4,
 "nbformat_minor": 2
}
